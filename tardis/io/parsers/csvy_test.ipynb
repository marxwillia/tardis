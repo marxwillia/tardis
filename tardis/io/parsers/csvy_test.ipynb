{
 "cells": [
  {
   "cell_type": "code",
   "execution_count": 1,
   "metadata": {},
   "outputs": [],
   "source": [
    "import csvy"
   ]
  },
  {
   "cell_type": "code",
   "execution_count": 2,
   "metadata": {},
   "outputs": [],
   "source": [
    "YAML_DELIMITER = '---'\n",
    "def load_csvy(fname):\n",
    "    with open(fname) as fh:\n",
    "        yaml_lines = []\n",
    "        yaml_end_ind = -1\n",
    "        for i, line in enumerate(fh):\n",
    "            if i == 0:\n",
    "                assert line.strip() == YAML_DELIMITER, 'First line of csvy file is not \\'---\\''\n",
    "            yaml_lines.append(line)\n",
    "            if i > 0 and line.strip() == YAML_DELIMITER:\n",
    "                yaml_end_ind = i\n",
    "                break\n",
    "        else:\n",
    "            raise Exception('End YAML_DELIMITER not found') \n",
    "        yaml_dict = yaml.load(''.join(yaml_lines[1:-1]))\n",
    "        data = pd.read_csv(fname, skiprows=yaml_end_ind - 1)\n",
    "\n",
    "    return yaml_dict, data"
   ]
  },
  {
   "cell_type": "code",
   "execution_count": 2,
   "metadata": {},
   "outputs": [],
   "source": [
    "y,d= csvy.load_csvy('csvy_ex')"
   ]
  },
  {
   "cell_type": "code",
   "execution_count": 3,
   "metadata": {},
   "outputs": [
    {
     "data": {
      "text/plain": [
       "{'profile': 'tabular-data-resource',\n",
       " 'name': 'my-dataset',\n",
       " 'path': 'https://raw.githubusercontent.com/csvy/csvy.github.io/master/examples/example.csvy',\n",
       " 'title': 'Example file of csvy',\n",
       " 'description': 'Show a csvy sample file.',\n",
       " 'format': 'csvy',\n",
       " 'mediatype': 'text/vnd.yaml',\n",
       " 'encoding': 'utf-8',\n",
       " 'schema': {'fields': [{'name': 'var1', 'type': 'string'},\n",
       "   {'name': 'var2', 'type': 'integer'},\n",
       "   {'name': 'var3', 'type': 'number'}]},\n",
       " 'dialect': {'csvddfVersion': 1.0,\n",
       "  'delimiter': ',',\n",
       "  'doubleQuote': False,\n",
       "  'lineTerminator': '\\r\\n',\n",
       "  'quoteChar': '\"',\n",
       "  'skipInitialSpace': True,\n",
       "  'header': True},\n",
       " 'sources': [{'title': 'The csvy specifications',\n",
       "   'path': 'http://csvy.org/',\n",
       "   'email': ''}],\n",
       " 'licenses': [{'name': 'CC-BY-4.0',\n",
       "   'title': 'Creative Commons Attribution 4.0',\n",
       "   'path': 'https://creativecommons.org/licenses/by/4.0/'}]}"
      ]
     },
     "execution_count": 3,
     "metadata": {},
     "output_type": "execute_result"
    }
   ],
   "source": [
    "y"
   ]
  },
  {
   "cell_type": "code",
   "execution_count": 4,
   "metadata": {},
   "outputs": [
    {
     "data": {
      "text/html": [
       "<div>\n",
       "<style scoped>\n",
       "    .dataframe tbody tr th:only-of-type {\n",
       "        vertical-align: middle;\n",
       "    }\n",
       "\n",
       "    .dataframe tbody tr th {\n",
       "        vertical-align: top;\n",
       "    }\n",
       "\n",
       "    .dataframe thead th {\n",
       "        text-align: right;\n",
       "    }\n",
       "</style>\n",
       "<table border=\"1\" class=\"dataframe\">\n",
       "  <thead>\n",
       "    <tr style=\"text-align: right;\">\n",
       "      <th></th>\n",
       "      <th>var1</th>\n",
       "      <th>var2</th>\n",
       "      <th>var3</th>\n",
       "    </tr>\n",
       "  </thead>\n",
       "  <tbody>\n",
       "    <tr>\n",
       "      <th>0</th>\n",
       "      <td>A</td>\n",
       "      <td>1</td>\n",
       "      <td>2.0</td>\n",
       "    </tr>\n",
       "    <tr>\n",
       "      <th>1</th>\n",
       "      <td>B</td>\n",
       "      <td>3</td>\n",
       "      <td>4.3</td>\n",
       "    </tr>\n",
       "  </tbody>\n",
       "</table>\n",
       "</div>"
      ],
      "text/plain": [
       "  var1  var2  var3\n",
       "0    A     1   2.0\n",
       "1    B     3   4.3"
      ]
     },
     "execution_count": 4,
     "metadata": {},
     "output_type": "execute_result"
    }
   ],
   "source": [
    "d"
   ]
  },
  {
   "cell_type": "code",
   "execution_count": null,
   "metadata": {},
   "outputs": [],
   "source": []
  },
  {
   "cell_type": "code",
   "execution_count": null,
   "metadata": {},
   "outputs": [],
   "source": []
  },
  {
   "cell_type": "code",
   "execution_count": null,
   "metadata": {},
   "outputs": [],
   "source": []
  },
  {
   "cell_type": "code",
   "execution_count": null,
   "metadata": {},
   "outputs": [],
   "source": []
  },
  {
   "cell_type": "code",
   "execution_count": null,
   "metadata": {},
   "outputs": [],
   "source": []
  },
  {
   "cell_type": "code",
   "execution_count": null,
   "metadata": {},
   "outputs": [],
   "source": []
  },
  {
   "cell_type": "code",
   "execution_count": null,
   "metadata": {},
   "outputs": [],
   "source": []
  }
 ],
 "metadata": {
  "kernelspec": {
   "display_name": "Python 3",
   "language": "python",
   "name": "python3"
  },
  "language_info": {
   "codemirror_mode": {
    "name": "ipython",
    "version": 3
   },
   "file_extension": ".py",
   "mimetype": "text/x-python",
   "name": "python",
   "nbconvert_exporter": "python",
   "pygments_lexer": "ipython3",
   "version": "3.6.7"
  }
 },
 "nbformat": 4,
 "nbformat_minor": 2
}
