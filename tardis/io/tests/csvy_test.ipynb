{
 "cells": [
  {
   "cell_type": "code",
   "execution_count": 1,
   "metadata": {},
   "outputs": [
    {
     "name": "stderr",
     "output_type": "stream",
     "text": [
      "/home/mew488/anaconda2/envs/tardis3/lib/python3.6/site-packages/tqdm/autonotebook/__init__.py:14: TqdmExperimentalWarning: Using `tqdm.autonotebook.tqdm` in notebook mode. Use `tqdm.tqdm` instead to force console mode (e.g. in jupyter console)\n",
      "  \" (e.g. in jupyter console)\", TqdmExperimentalWarning)\n"
     ]
    }
   ],
   "source": [
    "from tardis.io.parsers import csvy\n",
    "import pytest\n",
    "import os\n",
    "from astropy import units as u\n",
    "import numpy.testing as npt"
   ]
  },
  {
   "cell_type": "code",
   "execution_count": 18,
   "metadata": {},
   "outputs": [
    {
     "ename": "NameError",
     "evalue": "name '__file__' is not defined",
     "output_type": "error",
     "traceback": [
      "\u001b[0;31m---------------------------------------------------------------------------\u001b[0m",
      "\u001b[0;31mNameError\u001b[0m                                 Traceback (most recent call last)",
      "\u001b[0;32m<ipython-input-18-ffee143d6537>\u001b[0m in \u001b[0;36m<module>\u001b[0;34m\u001b[0m\n\u001b[0;32m----> 1\u001b[0;31m \u001b[0mtest_data_directory\u001b[0m \u001b[0;34m=\u001b[0m \u001b[0mos\u001b[0m\u001b[0;34m.\u001b[0m\u001b[0mpath\u001b[0m\u001b[0;34m.\u001b[0m\u001b[0mdirname\u001b[0m\u001b[0;34m(\u001b[0m\u001b[0m__file__\u001b[0m\u001b[0;34m)\u001b[0m\u001b[0;34m\u001b[0m\u001b[0;34m\u001b[0m\u001b[0m\n\u001b[0m\u001b[1;32m      2\u001b[0m \u001b[0;34m\u001b[0m\u001b[0m\n\u001b[1;32m      3\u001b[0m \u001b[0;32mdef\u001b[0m \u001b[0mdata_path\u001b[0m\u001b[0;34m(\u001b[0m\u001b[0mfilename\u001b[0m\u001b[0;34m)\u001b[0m\u001b[0;34m:\u001b[0m\u001b[0;34m\u001b[0m\u001b[0;34m\u001b[0m\u001b[0m\n\u001b[1;32m      4\u001b[0m     \u001b[0mdata_dir\u001b[0m \u001b[0;34m=\u001b[0m \u001b[0mos\u001b[0m\u001b[0;34m.\u001b[0m\u001b[0mpath\u001b[0m\u001b[0;34m.\u001b[0m\u001b[0mdirname\u001b[0m\u001b[0;34m(\u001b[0m\u001b[0m__file__\u001b[0m\u001b[0;34m)\u001b[0m\u001b[0;34m\u001b[0m\u001b[0;34m\u001b[0m\u001b[0m\n\u001b[1;32m      5\u001b[0m     \u001b[0;32mreturn\u001b[0m \u001b[0mos\u001b[0m\u001b[0;34m.\u001b[0m\u001b[0mpath\u001b[0m\u001b[0;34m.\u001b[0m\u001b[0mjoin\u001b[0m\u001b[0;34m(\u001b[0m\u001b[0mdata_dir\u001b[0m\u001b[0;34m,\u001b[0m \u001b[0;34m'data'\u001b[0m\u001b[0;34m,\u001b[0m \u001b[0mfilename\u001b[0m\u001b[0;34m)\u001b[0m\u001b[0;34m\u001b[0m\u001b[0;34m\u001b[0m\u001b[0m\n",
      "\u001b[0;31mNameError\u001b[0m: name '__file__' is not defined"
     ]
    }
   ],
   "source": [
    "test_data_directory = os.path.dirname(__file__)\n",
    "\n",
    "def data_path(filename):\n",
    "    data_dir = os.path.dirname(__file__)\n",
    "    return os.path.join(data_dir, 'data', filename)\n",
    "\n",
    "def test_csvy_finds_csv_first_line():\n",
    "    yaml_dict, csv = csvy.load_csvy(data_path('csvy_full.csvy'))\n",
    "    assert csv['velocity'][0] == 10000"
   ]
  },
  {
   "cell_type": "code",
   "execution_count": 1,
   "metadata": {},
   "outputs": [
    {
     "name": "stderr",
     "output_type": "stream",
     "text": [
      "/home/mew488/anaconda2/envs/tardis3/lib/python3.6/site-packages/tqdm/autonotebook/__init__.py:14: TqdmExperimentalWarning: Using `tqdm.autonotebook.tqdm` in notebook mode. Use `tqdm.tqdm` instead to force console mode (e.g. in jupyter console)\n",
      "  \" (e.g. in jupyter console)\", TqdmExperimentalWarning)\n"
     ]
    }
   ],
   "source": [
    "from tardis.io.tests.test_csvy_reader import test_csvy_finds_csv_first_line\n",
    "from tardis.io.tests.test_csvy_reader import test_csv_colnames_equiv_datatype_fields\n",
    "test_csvy_finds_csv_first_line()\n",
    "test_csv_colnames_equiv_datatype_fields()"
   ]
  },
  {
   "cell_type": "code",
   "execution_count": null,
   "metadata": {},
   "outputs": [],
   "source": []
  },
  {
   "cell_type": "code",
   "execution_count": null,
   "metadata": {},
   "outputs": [],
   "source": []
  },
  {
   "cell_type": "code",
   "execution_count": 3,
   "metadata": {},
   "outputs": [],
   "source": [
    "y,d= csvy.load_csvy('data/csvy_full.csvy')"
   ]
  },
  {
   "cell_type": "code",
   "execution_count": 4,
   "metadata": {},
   "outputs": [
    {
     "data": {
      "text/plain": [
       "OrderedDict([('name', 'csvy_full'),\n",
       "             ('description', 'Example csvy config file for TARDIS.'),\n",
       "             ('tardis_model_config_version', 'v1.0'),\n",
       "             ('atom_data', 'path/to/atom_data'),\n",
       "             ('datatype',\n",
       "              OrderedDict([('fields',\n",
       "                            [OrderedDict([('name', 'velocity'),\n",
       "                                          ('unit', 'km/s'),\n",
       "                                          ('desc',\n",
       "                                           'velocities of shell outer bounderies.')]),\n",
       "                             OrderedDict([('name', 'density'),\n",
       "                                          ('unit', 'g/cm^3'),\n",
       "                                          ('desc', 'density of shell.')]),\n",
       "                             OrderedDict([('name', 'H'),\n",
       "                                          ('desc', 'fractional H abundance')]),\n",
       "                             OrderedDict([('name', 'He'),\n",
       "                                          ('desc',\n",
       "                                           'fractional He abundance')])])])),\n",
       "             ('v_inner_boundary', <Quantity 9000. km / s>),\n",
       "             ('v_outer_boundary', <Quantity 15000. km / s>)])"
      ]
     },
     "execution_count": 4,
     "metadata": {},
     "output_type": "execute_result"
    }
   ],
   "source": [
    "y"
   ]
  },
  {
   "cell_type": "code",
   "execution_count": 15,
   "metadata": {},
   "outputs": [
    {
     "data": {
      "text/plain": [
       "'velocity'"
      ]
     },
     "execution_count": 15,
     "metadata": {},
     "output_type": "execute_result"
    }
   ],
   "source": [
    "y['datatype']['fields'][0]['name']"
   ]
  },
  {
   "cell_type": "code",
   "execution_count": 17,
   "metadata": {},
   "outputs": [],
   "source": [
    "names = [od['name'] for od in y['datatype']['fields']]"
   ]
  },
  {
   "cell_type": "code",
   "execution_count": 18,
   "metadata": {},
   "outputs": [
    {
     "name": "stdout",
     "output_type": "stream",
     "text": [
      "True\n",
      "True\n",
      "True\n",
      "True\n"
     ]
    }
   ],
   "source": [
    "names = [od['name'] for od in y['datatype']['fields']]\n",
    "for key in d.columns:\n",
    "    print(key in names)"
   ]
  },
  {
   "cell_type": "code",
   "execution_count": 17,
   "metadata": {},
   "outputs": [
    {
     "data": {
      "text/plain": [
       "10000"
      ]
     },
     "execution_count": 17,
     "metadata": {},
     "output_type": "execute_result"
    }
   ],
   "source": [
    "d['velocity'][0]"
   ]
  },
  {
   "cell_type": "code",
   "execution_count": null,
   "metadata": {},
   "outputs": [],
   "source": []
  },
  {
   "cell_type": "code",
   "execution_count": null,
   "metadata": {},
   "outputs": [],
   "source": []
  },
  {
   "cell_type": "code",
   "execution_count": 19,
   "metadata": {},
   "outputs": [
    {
     "data": {
      "text/plain": [
       "OrderedDict([('name', 'csvy_nocsv'),\n",
       "             ('description', 'Example csvy config file for TARDIS.'),\n",
       "             ('tardis_model_config_version', 'v1.0'),\n",
       "             ('atom_data', 'path/to/atom_data'),\n",
       "             ('velocity',\n",
       "              OrderedDict([('start', <Quantity 9000. km / s>),\n",
       "                           ('stop', <Quantity 15000. km / s>),\n",
       "                           ('num', 10)])),\n",
       "             ('density', 'branch85_w7'),\n",
       "             ('abundance', 'uniform'),\n",
       "             ('v_inner_boundary', <Quantity 9000. km / s>),\n",
       "             ('v_outer_boundary', <Quantity 15000. km / s>)])"
      ]
     },
     "execution_count": 19,
     "metadata": {},
     "output_type": "execute_result"
    }
   ],
   "source": [
    "y_only = csvy.load_yaml_from_csvy('csvy_nocsv')\n",
    "y_only"
   ]
  },
  {
   "cell_type": "code",
   "execution_count": 7,
   "metadata": {},
   "outputs": [],
   "source": [
    "d_only = csvy.load_csv_from_csvy('csvy_full')"
   ]
  },
  {
   "cell_type": "code",
   "execution_count": 8,
   "metadata": {},
   "outputs": [
    {
     "data": {
      "text/html": [
       "<div>\n",
       "<style scoped>\n",
       "    .dataframe tbody tr th:only-of-type {\n",
       "        vertical-align: middle;\n",
       "    }\n",
       "\n",
       "    .dataframe tbody tr th {\n",
       "        vertical-align: top;\n",
       "    }\n",
       "\n",
       "    .dataframe thead th {\n",
       "        text-align: right;\n",
       "    }\n",
       "</style>\n",
       "<table border=\"1\" class=\"dataframe\">\n",
       "  <thead>\n",
       "    <tr style=\"text-align: right;\">\n",
       "      <th></th>\n",
       "      <th>velocity</th>\n",
       "      <th>density</th>\n",
       "      <th>H</th>\n",
       "      <th>He</th>\n",
       "    </tr>\n",
       "  </thead>\n",
       "  <tbody>\n",
       "    <tr>\n",
       "      <th>0</th>\n",
       "      <td>10000</td>\n",
       "      <td>5.000000e-09</td>\n",
       "      <td>0.3</td>\n",
       "      <td>0.7</td>\n",
       "    </tr>\n",
       "    <tr>\n",
       "      <th>1</th>\n",
       "      <td>11000</td>\n",
       "      <td>2.000000e-09</td>\n",
       "      <td>0.6</td>\n",
       "      <td>0.4</td>\n",
       "    </tr>\n",
       "  </tbody>\n",
       "</table>\n",
       "</div>"
      ],
      "text/plain": [
       "   velocity       density    H   He\n",
       "0     10000  5.000000e-09  0.3  0.7\n",
       "1     11000  2.000000e-09  0.6  0.4"
      ]
     },
     "execution_count": 8,
     "metadata": {},
     "output_type": "execute_result"
    }
   ],
   "source": [
    "d_only"
   ]
  },
  {
   "cell_type": "code",
   "execution_count": 28,
   "metadata": {},
   "outputs": [],
   "source": [
    "y,d= csvy.load_csvy('csvy_nocsv')"
   ]
  },
  {
   "cell_type": "code",
   "execution_count": 23,
   "metadata": {},
   "outputs": [
    {
     "name": "stdout",
     "output_type": "stream",
     "text": [
      "OrderedDict([('name', 'csvy_nocsv'), ('description', 'Example csvy config file for TARDIS.'), ('tardis_model_config_version', 'v1.0'), ('atom_data', 'path/to/atom_data'), ('velocity', OrderedDict([('start', <Quantity 9000. km / s>), ('stop', <Quantity 15000. km / s>), ('num', 10)])), ('density', OrderedDict([('type', 'branch85_w7')])), ('abundance', 'uniform'), ('v_inner_boundary', <Quantity 9000. km / s>), ('v_outer_boundary', <Quantity 15000. km / s>)])\n",
      "None\n"
     ]
    }
   ],
   "source": [
    "print(y)\n",
    "print(d)"
   ]
  },
  {
   "cell_type": "code",
   "execution_count": 24,
   "metadata": {},
   "outputs": [],
   "source": [
    "from tardis.io.config_validator import validate_dict"
   ]
  },
  {
   "cell_type": "code",
   "execution_count": 32,
   "metadata": {},
   "outputs": [],
   "source": [
    "vy = validate_dict(y, schemapath='/home/mew488/src/dev/tardis/tardis/io/schemas/csvy_model_v2.yml')"
   ]
  },
  {
   "cell_type": "code",
   "execution_count": 33,
   "metadata": {},
   "outputs": [
    {
     "data": {
      "text/plain": [
       "OrderedDict([('name', 'csvy_full'),\n",
       "             ('description', 'Example csvy config file for TARDIS.'),\n",
       "             ('tardis_model_config_version', 'v1.0'),\n",
       "             ('atom_data', 'path/to/atom_data'),\n",
       "             ('datatype',\n",
       "              OrderedDict([('fields',\n",
       "                            [OrderedDict([('name', 'velocity'),\n",
       "                                          ('unit', 'km/s'),\n",
       "                                          ('desc',\n",
       "                                           'velocities of shell outer bounderies.')]),\n",
       "                             OrderedDict([('name', 'density'),\n",
       "                                          ('unit', 'g/cm^3'),\n",
       "                                          ('desc', 'density of shell.')]),\n",
       "                             OrderedDict([('name', 'H'),\n",
       "                                          ('desc', 'fractional H abundance')]),\n",
       "                             OrderedDict([('name', 'He'),\n",
       "                                          ('desc',\n",
       "                                           'fractional He abundance')])])])),\n",
       "             ('v_inner_boundary', <Quantity 9000. km / s>),\n",
       "             ('v_outer_boundary', <Quantity 15000. km / s>)])"
      ]
     },
     "execution_count": 33,
     "metadata": {},
     "output_type": "execute_result"
    }
   ],
   "source": [
    "vy"
   ]
  },
  {
   "cell_type": "code",
   "execution_count": 29,
   "metadata": {},
   "outputs": [],
   "source": [
    "vy = validate_dict(y, schemapath='/home/mew488/src/dev/tardis/tardis/io/schemas/csvy_model_v2.yml')"
   ]
  },
  {
   "cell_type": "code",
   "execution_count": null,
   "metadata": {},
   "outputs": [],
   "source": []
  }
 ],
 "metadata": {
  "kernelspec": {
   "display_name": "Python 3",
   "language": "python",
   "name": "python3"
  },
  "language_info": {
   "codemirror_mode": {
    "name": "ipython",
    "version": 3
   },
   "file_extension": ".py",
   "mimetype": "text/x-python",
   "name": "python",
   "nbconvert_exporter": "python",
   "pygments_lexer": "ipython3",
   "version": "3.6.7"
  }
 },
 "nbformat": 4,
 "nbformat_minor": 2
}
