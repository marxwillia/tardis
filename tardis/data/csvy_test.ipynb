{
 "cells": [
  {
   "cell_type": "code",
   "execution_count": 1,
   "metadata": {},
   "outputs": [
    {
     "name": "stderr",
     "output_type": "stream",
     "text": [
      "/home/mew488/anaconda2/envs/tardis3/lib/python3.6/site-packages/tqdm/autonotebook/__init__.py:14: TqdmExperimentalWarning: Using `tqdm.autonotebook.tqdm` in notebook mode. Use `tqdm.tqdm` instead to force console mode (e.g. in jupyter console)\n",
      "  \" (e.g. in jupyter console)\", TqdmExperimentalWarning)\n"
     ]
    }
   ],
   "source": [
    "from tardis.io.parsers import csvy\n",
    "from tardis.io.util import YAMLLoader, yaml_load_file\n",
    "import yaml\n",
    "import pandas as pd"
   ]
  },
  {
   "cell_type": "code",
   "execution_count": 17,
   "metadata": {},
   "outputs": [],
   "source": [
    "YAML_DELIMITER = '---'\n",
    "def load_csvy(fname):\n",
    "    with open(fname) as fh:\n",
    "        yaml_lines = []\n",
    "        yaml_end_ind = -1\n",
    "        for i, line in enumerate(fh):\n",
    "            if i == 0:\n",
    "                assert line.strip() == YAML_DELIMITER, 'First line of csvy file is not \\'---\\''\n",
    "            yaml_lines.append(line)\n",
    "            if i > 0 and line.strip() == YAML_DELIMITER:\n",
    "                yaml_end_ind = i\n",
    "                break\n",
    "        else:\n",
    "            raise Exception('End YAML_DELIMITER not found') \n",
    "        yaml_dict = yaml.load(''.join(yaml_lines[1:-1]),YAMLLoader)\n",
    "        data = pd.read_csv(fname, skiprows=yaml_end_ind + 1)\n",
    "\n",
    "    return yaml_dict, data"
   ]
  },
  {
   "cell_type": "code",
   "execution_count": 7,
   "metadata": {},
   "outputs": [],
   "source": [
    "y,d= csvy.load_csvy('csvy_full')"
   ]
  },
  {
   "cell_type": "code",
   "execution_count": 8,
   "metadata": {},
   "outputs": [
    {
     "data": {
      "text/plain": [
       "OrderedDict([('name', 'csvy_full'),\n",
       "             ('description', 'Example csvy config file for TARDIS.'),\n",
       "             ('tardis_config_version', 'v1.0'),\n",
       "             ('atom_data', 'path/to/atom_data'),\n",
       "             ('datatype',\n",
       "              OrderedDict([('fields',\n",
       "                            [OrderedDict([('name', 'velocity'),\n",
       "                                          ('unit', 'km/s'),\n",
       "                                          ('desc',\n",
       "                                           'velocities of shell outer bounderies.')]),\n",
       "                             OrderedDict([('name', 'density'),\n",
       "                                          ('unit', 'g/cm^3'),\n",
       "                                          ('desc', 'density of shell.')])])])),\n",
       "             ('model',\n",
       "              OrderedDict([('v_inner_boundary', <Quantity 9000. km / s>),\n",
       "                           ('v_outer_boundary', <Quantity 15000. km / s>)]))])"
      ]
     },
     "execution_count": 8,
     "metadata": {},
     "output_type": "execute_result"
    }
   ],
   "source": [
    "y"
   ]
  },
  {
   "cell_type": "code",
   "execution_count": 9,
   "metadata": {},
   "outputs": [
    {
     "data": {
      "text/html": [
       "<div>\n",
       "<style scoped>\n",
       "    .dataframe tbody tr th:only-of-type {\n",
       "        vertical-align: middle;\n",
       "    }\n",
       "\n",
       "    .dataframe tbody tr th {\n",
       "        vertical-align: top;\n",
       "    }\n",
       "\n",
       "    .dataframe thead th {\n",
       "        text-align: right;\n",
       "    }\n",
       "</style>\n",
       "<table border=\"1\" class=\"dataframe\">\n",
       "  <thead>\n",
       "    <tr style=\"text-align: right;\">\n",
       "      <th></th>\n",
       "      <th>velocity</th>\n",
       "      <th>density</th>\n",
       "    </tr>\n",
       "  </thead>\n",
       "  <tbody>\n",
       "    <tr>\n",
       "      <th>0</th>\n",
       "      <td>10000</td>\n",
       "      <td>5.000000e-09</td>\n",
       "    </tr>\n",
       "    <tr>\n",
       "      <th>1</th>\n",
       "      <td>11000</td>\n",
       "      <td>2.000000e-09</td>\n",
       "    </tr>\n",
       "  </tbody>\n",
       "</table>\n",
       "</div>"
      ],
      "text/plain": [
       "   velocity       density\n",
       "0     10000  5.000000e-09\n",
       "1     11000  2.000000e-09"
      ]
     },
     "execution_count": 9,
     "metadata": {},
     "output_type": "execute_result"
    }
   ],
   "source": [
    "d"
   ]
  },
  {
   "cell_type": "code",
   "execution_count": 14,
   "metadata": {},
   "outputs": [
    {
     "data": {
      "text/plain": [
       "OrderedDict([('name', 'velocity'),\n",
       "             ('unit', 'km/s'),\n",
       "             ('desc', 'velocities of shell outer bounderies.')])"
      ]
     },
     "execution_count": 14,
     "metadata": {},
     "output_type": "execute_result"
    }
   ],
   "source": [
    "y['datatype']['fields'][0]"
   ]
  },
  {
   "cell_type": "code",
   "execution_count": 12,
   "metadata": {},
   "outputs": [
    {
     "data": {
      "text/latex": [
       "$9000 \\; \\mathrm{\\frac{km}{s}}$"
      ],
      "text/plain": [
       "<Quantity 9000. km / s>"
      ]
     },
     "execution_count": 12,
     "metadata": {},
     "output_type": "execute_result"
    }
   ],
   "source": [
    "y['model']['v_inner_boundary']"
   ]
  },
  {
   "cell_type": "code",
   "execution_count": null,
   "metadata": {},
   "outputs": [],
   "source": []
  },
  {
   "cell_type": "code",
   "execution_count": null,
   "metadata": {},
   "outputs": [],
   "source": []
  },
  {
   "cell_type": "code",
   "execution_count": null,
   "metadata": {},
   "outputs": [],
   "source": []
  },
  {
   "cell_type": "code",
   "execution_count": null,
   "metadata": {},
   "outputs": [],
   "source": []
  },
  {
   "cell_type": "code",
   "execution_count": null,
   "metadata": {},
   "outputs": [],
   "source": []
  }
 ],
 "metadata": {
  "kernelspec": {
   "display_name": "Python 3",
   "language": "python",
   "name": "python3"
  },
  "language_info": {
   "codemirror_mode": {
    "name": "ipython",
    "version": 3
   },
   "file_extension": ".py",
   "mimetype": "text/x-python",
   "name": "python",
   "nbconvert_exporter": "python",
   "pygments_lexer": "ipython3",
   "version": "3.6.7"
  }
 },
 "nbformat": 4,
 "nbformat_minor": 2
}
